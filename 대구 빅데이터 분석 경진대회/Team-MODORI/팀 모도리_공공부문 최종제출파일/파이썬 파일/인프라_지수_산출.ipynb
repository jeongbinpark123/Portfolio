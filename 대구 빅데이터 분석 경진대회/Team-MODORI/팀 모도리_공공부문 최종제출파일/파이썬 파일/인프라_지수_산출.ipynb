{
  "nbformat": 4,
  "nbformat_minor": 0,
  "metadata": {
    "colab": {
      "provenance": []
    },
    "kernelspec": {
      "name": "python3",
      "display_name": "Python 3"
    },
    "language_info": {
      "name": "python"
    }
  },
  "cells": [
    {
      "cell_type": "code",
      "source": [
        "import numpy as np\n",
        "import pandas as pd\n",
        "from math import radians, cos, sin, sqrt, atan2\n",
        "\n",
        "# 거리 계산 함수 (Haversine 공식)\n",
        "def haversine(lat1, lon1, lat2, lon2):\n",
        "    R = 6371.0  # 지구의 평균 반지름 (km)\n",
        "    dlat = radians(lat2 - lat1)\n",
        "    dlon = radians(lon2 - lon1)\n",
        "    a = sin(dlat/2) * sin(dlat/2) + cos(radians(lat1)) * cos(radians(lat2)) * sin(dlon/2) * sin(dlon/2)\n",
        "    c = 2 * atan2(sqrt(a), sqrt(1 - a))\n",
        "    distance = R * c\n",
        "    return distance\n",
        "\n",
        "# 데이터 읽기\n",
        "df_districts = pd.read_excel('달서구 행정구역 중심좌표.xlsx')\n",
        "df_hospitals = pd.read_csv('달서구 인프라 좌표.csv',encoding = 'cp949')\n",
        "\n",
        "# '위도'와 '경도'를 str로 변환 후, 숫자 추출\n",
        "df_hospitals['위도'] = df_hospitals['위도'].astype(str).str.extract(r'([-+]?\\d*\\.\\d+|\\d+)').astype(float)\n",
        "df_hospitals['경도'] = df_hospitals['경도'].astype(str).str.extract(r'([-+]?\\d*\\.\\d+|\\d+)').astype(float)\n",
        "\n",
        "# 인프라 점수 계산 함수\n",
        "def calculate_infrastructure_score(lat, lon, hospitals, radius=0.5):\n",
        "    scores = []\n",
        "    for _, row in hospitals.iterrows():\n",
        "        dist = haversine(lat, lon, row['위도'], row['경도'])\n",
        "        if dist <= radius:\n",
        "            score = 1 / (dist + 0.1)  # 역수 방식의 점수, 0으로 값이 나오는 것을 방지하기 위해 0.1 추가\n",
        "            scores.append(score)\n",
        "    return sum(scores)  # 또는 np.mean(scores)로 평균 점수\n",
        "\n",
        "# 각 행정동에 대해 인프라 점수 계산\n",
        "df_districts['인프라점수'] = df_districts.apply(\n",
        "    lambda row: calculate_infrastructure_score(row['위도'], row['경도'], df_hospitals),\n",
        "    axis=1\n",
        ")\n",
        "\n",
        "print(df_districts[['행정구역', '인프라점수']])\n"
      ],
      "metadata": {
        "id": "cS7frIHRi1vn",
        "colab": {
          "base_uri": "https://localhost:8080/"
        },
        "outputId": "9a4ff72c-01af-4b33-864c-1f1762a2ec80"
      },
      "execution_count": null,
      "outputs": [
        {
          "output_type": "stream",
          "name": "stdout",
          "text": [
            "   행정구역       인프라점수\n",
            "0   성당동   84.628450\n",
            "1   두류동   37.224575\n",
            "2   본리동  136.014102\n",
            "3   감삼동  138.261700\n",
            "4   죽전동   22.015173\n",
            "5   장기동   84.658347\n",
            "6   용산동  171.164155\n",
            "7   이곡동  145.972079\n",
            "8   신당동   59.606841\n",
            "9   월성동   87.179382\n",
            "10  진천동  242.826574\n",
            "11  유천동   55.529302\n",
            "12  상인동  147.305652\n",
            "13  도원동  167.723794\n",
            "14  송현동   91.305455\n",
            "15   본동   51.825570\n"
          ]
        }
      ]
    },
    {
      "cell_type": "code",
      "source": [
        "df_districts.to_excel('달서구 행정구역 인프라지수.xlsx', index=False)"
      ],
      "metadata": {
        "id": "_hsXJ6hRV0O7"
      },
      "execution_count": null,
      "outputs": []
    },
    {
      "cell_type": "code",
      "source": [],
      "metadata": {
        "id": "2_qFrXK8MnG2"
      },
      "execution_count": null,
      "outputs": []
    }
  ]
}