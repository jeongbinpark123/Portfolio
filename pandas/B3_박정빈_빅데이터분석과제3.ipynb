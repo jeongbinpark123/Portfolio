{
 "cells": [
  {
   "cell_type": "code",
   "execution_count": 5,
   "id": "5096a913",
   "metadata": {},
   "outputs": [],
   "source": [
    "#데이터 구성 패키지\n",
    "import pandas as pd\n",
    "#행렬 연산 패키지\n",
    "import numpy as np\n",
    "#데이터 시각화 패키지\n",
    "import matplotlib\n",
    "import matplotlib.pyplot as plt\n",
    "#데이터 시각화 + 패키지\n",
    "import seaborn as sns\n",
    "#통계 분석 패키지\n",
    "from scipy import stats\n",
    "from statsmodels.stats.proportion import proportions_ztest\n",
    "#그래프 표시\n",
    "%matplotlib inline"
   ]
  },
  {
   "cell_type": "code",
   "execution_count": 6,
   "id": "02b2f4c7",
   "metadata": {},
   "outputs": [],
   "source": [
    "matplotlib.rc('font',family = 'Noto sans CJK JP')\n",
    "matplotlib.rc('axes',unicode_minus = False)\n",
    "%matplotlib inline"
   ]
  },
  {
   "cell_type": "code",
   "execution_count": 137,
   "id": "a1c60575",
   "metadata": {},
   "outputs": [
    {
     "name": "stdout",
     "output_type": "stream",
     "text": [
      "나의 키가 180cm일 경우: 15.9%\n"
     ]
    }
   ],
   "source": [
    "# 실습문제 1\n",
    "mu = 175\n",
    "sigma = 5\n",
    "x = 180\n",
    "prob = stats.norm.cdf(x,mu,sigma)\n",
    "print(\"나의 키가 180cm일 경우: {1:.1f}%\".format(x,(1-prob)*100))"
   ]
  },
  {
   "cell_type": "code",
   "execution_count": 166,
   "id": "8741293c",
   "metadata": {},
   "outputs": [
    {
     "name": "stdout",
     "output_type": "stream",
     "text": [
      "12km 이상 15km 이하를 달릴 확률은 0.341 에 해당함\n",
      "15km 이상 달릴 확률은  15.9%\n"
     ]
    }
   ],
   "source": [
    "# 실습문제 2\n",
    "mu = 12\n",
    "sigma = 3\n",
    "x1 = 15\n",
    "prob1 = stats.norm.cdf(x1, mu, sigma)\n",
    "print(\"{0}km 이상 {1}km 이하를 달릴 확률은 {2:.3f} 에 해당함\".format(mu,x1,(prob1-0.5)))\n",
    "print(\"{0}km 이상 달릴 확률은  {1:.1f}%\".format(x1,(1-prob)*100))"
   ]
  },
  {
   "cell_type": "code",
   "execution_count": 9,
   "id": "c88e5059",
   "metadata": {},
   "outputs": [
    {
     "name": "stdout",
     "output_type": "stream",
     "text": [
      "P(T<=t): 0.976\n"
     ]
    }
   ],
   "source": [
    "# 실습문제 3\n",
    "t = 2.0\n",
    "df = 100\n",
    "prob = stats.t.cdf(t,df)\n",
    "print(\"P(T<=t): {:.3f}\".format(prob))"
   ]
  },
  {
   "cell_type": "code",
   "execution_count": 10,
   "id": "46620d5d",
   "metadata": {},
   "outputs": [
    {
     "name": "stdout",
     "output_type": "stream",
     "text": [
      "P(X<=3.0) : 0.0656\n"
     ]
    }
   ],
   "source": [
    "# 실습문제 4\n",
    "chisq = 3.0\n",
    "df = 8\n",
    "prob = stats.chi2.cdf(chisq,df)\n",
    "print(\"P(X<={0}) : {1:.4f}\".format(chisq,prob))"
   ]
  },
  {
   "cell_type": "code",
   "execution_count": 11,
   "id": "5d6805ea",
   "metadata": {},
   "outputs": [
    {
     "name": "stdout",
     "output_type": "stream",
     "text": [
      "P(T<=F): 0.850\n"
     ]
    }
   ],
   "source": [
    "# 실습문제 5\n",
    "f = 1.5\n",
    "dfnum = 10\n",
    "dfden = 100\n",
    "prob = stats.f.cdf(x=f,dfn = dfnum, dfd = dfden)\n",
    "print(\"P(T<=F): {:.3f}\".format(prob))"
   ]
  },
  {
   "cell_type": "code",
   "execution_count": 19,
   "id": "b6013120",
   "metadata": {},
   "outputs": [
    {
     "name": "stdout",
     "output_type": "stream",
     "text": [
      "P(X=0): 0.168\n",
      "P(X=1): 0.360\n",
      "P(X=2): 0.309\n",
      "P(X=3): 0.132\n",
      "P(X=4): 0.028\n",
      "P(X=5): 0.002\n"
     ]
    }
   ],
   "source": [
    "# 실습문제 6\n",
    "n = 5\n",
    "for i in range(n+1):\n",
    "    prob = stats.binom.pmf(k = i, n = n, p = 0.3)\n",
    "    print(\"P(X={0}): {1:.3f}\".format(i,prob))\n",
    "# 불량대수가 0대 나올 확률은 16.8%\n",
    "# 불량대수가 1대 나올 확률은 36%\n",
    "# 불량대수가 2대 나올 확률은 30.9%\n",
    "# 불량대수가 3대 나올 확률은 13.2%\n",
    "# 불량대수가 4대 나올 확률은 2.8%\n",
    "# 불량대수가 5대 나올 확률은 0.2%\n",
    "# 누적확률로 봤을 때 1~3대 정도 불량으로 나올 확률이 제일 높아서 공정의 불량률의 큰 원인을 찾아서 적어도 1대가 나올 확률을 높이고\n",
    "# 다른 누적확률을 줄이는 것이 생산성에 있어서 효율적이라고 판단한다."
   ]
  },
  {
   "cell_type": "code",
   "execution_count": 28,
   "id": "6555153d",
   "metadata": {},
   "outputs": [],
   "source": [
    "# 실습문제 7\n",
    "df = pd.read_csv(\"/home/piai/문서/빅데이터분석실습/1 Big Data 분석 기초/2sample_t_test.csv\")\n",
    "df.head()\n",
    "df = df.dropna()"
   ]
  },
  {
   "cell_type": "code",
   "execution_count": 31,
   "id": "1605c47c",
   "metadata": {},
   "outputs": [
    {
     "name": "stdout",
     "output_type": "stream",
     "text": [
      "0.906264066696167 0.9169775247573853\n",
      "0.9729753732681274 0.9169775247573853\n"
     ]
    }
   ],
   "source": [
    "statisticA,p = stats.shapiro(df['Mat_A'])\n",
    "statisticB,p = stats.shapiro(df['Mat_B'])\n",
    "print(statisticA,p)\n",
    "print(statisticB,p)\n",
    "# A와 B 모두 정규성을 만족하고 있다."
   ]
  },
  {
   "cell_type": "code",
   "execution_count": 168,
   "id": "d60bcda2",
   "metadata": {},
   "outputs": [
    {
     "data": {
      "text/html": [
       "<div>\n",
       "<style scoped>\n",
       "    .dataframe tbody tr th:only-of-type {\n",
       "        vertical-align: middle;\n",
       "    }\n",
       "\n",
       "    .dataframe tbody tr th {\n",
       "        vertical-align: top;\n",
       "    }\n",
       "\n",
       "    .dataframe thead th {\n",
       "        text-align: right;\n",
       "    }\n",
       "</style>\n",
       "<table border=\"1\" class=\"dataframe\">\n",
       "  <thead>\n",
       "    <tr style=\"text-align: right;\">\n",
       "      <th></th>\n",
       "      <th>Potato</th>\n",
       "    </tr>\n",
       "  </thead>\n",
       "  <tbody>\n",
       "    <tr>\n",
       "      <th>0</th>\n",
       "      <td>18</td>\n",
       "    </tr>\n",
       "    <tr>\n",
       "      <th>1</th>\n",
       "      <td>18</td>\n",
       "    </tr>\n",
       "    <tr>\n",
       "      <th>2</th>\n",
       "      <td>20</td>\n",
       "    </tr>\n",
       "    <tr>\n",
       "      <th>3</th>\n",
       "      <td>21</td>\n",
       "    </tr>\n",
       "    <tr>\n",
       "      <th>4</th>\n",
       "      <td>20</td>\n",
       "    </tr>\n",
       "    <tr>\n",
       "      <th>5</th>\n",
       "      <td>23</td>\n",
       "    </tr>\n",
       "    <tr>\n",
       "      <th>6</th>\n",
       "      <td>19</td>\n",
       "    </tr>\n",
       "    <tr>\n",
       "      <th>7</th>\n",
       "      <td>18</td>\n",
       "    </tr>\n",
       "    <tr>\n",
       "      <th>8</th>\n",
       "      <td>17</td>\n",
       "    </tr>\n",
       "    <tr>\n",
       "      <th>9</th>\n",
       "      <td>21</td>\n",
       "    </tr>\n",
       "    <tr>\n",
       "      <th>10</th>\n",
       "      <td>22</td>\n",
       "    </tr>\n",
       "    <tr>\n",
       "      <th>11</th>\n",
       "      <td>20</td>\n",
       "    </tr>\n",
       "    <tr>\n",
       "      <th>12</th>\n",
       "      <td>20</td>\n",
       "    </tr>\n",
       "    <tr>\n",
       "      <th>13</th>\n",
       "      <td>21</td>\n",
       "    </tr>\n",
       "    <tr>\n",
       "      <th>14</th>\n",
       "      <td>20</td>\n",
       "    </tr>\n",
       "    <tr>\n",
       "      <th>15</th>\n",
       "      <td>19</td>\n",
       "    </tr>\n",
       "    <tr>\n",
       "      <th>16</th>\n",
       "      <td>19</td>\n",
       "    </tr>\n",
       "    <tr>\n",
       "      <th>17</th>\n",
       "      <td>18</td>\n",
       "    </tr>\n",
       "    <tr>\n",
       "      <th>18</th>\n",
       "      <td>17</td>\n",
       "    </tr>\n",
       "    <tr>\n",
       "      <th>19</th>\n",
       "      <td>19</td>\n",
       "    </tr>\n",
       "  </tbody>\n",
       "</table>\n",
       "</div>"
      ],
      "text/plain": [
       "    Potato\n",
       "0       18\n",
       "1       18\n",
       "2       20\n",
       "3       21\n",
       "4       20\n",
       "5       23\n",
       "6       19\n",
       "7       18\n",
       "8       17\n",
       "9       21\n",
       "10      22\n",
       "11      20\n",
       "12      20\n",
       "13      21\n",
       "14      20\n",
       "15      19\n",
       "16      19\n",
       "17      18\n",
       "18      17\n",
       "19      19"
      ]
     },
     "execution_count": 168,
     "metadata": {},
     "output_type": "execute_result"
    }
   ],
   "source": [
    "# 실습문제 8\n",
    "df = pd.DataFrame({\"Potato\" : [18,18,20,21,20,23,19,18,17,21,22,20,20,21,20,19,19,18,17,19]})\n",
    "df"
   ]
  },
  {
   "cell_type": "code",
   "execution_count": 169,
   "id": "1432d015",
   "metadata": {},
   "outputs": [
    {
     "name": "stdout",
     "output_type": "stream",
     "text": [
      "신뢰구간: ([19.33],[19.67])\n"
     ]
    },
    {
     "name": "stderr",
     "output_type": "stream",
     "text": [
      "/home/piai/anaconda3/lib/python3.10/site-packages/numpy/core/fromnumeric.py:3430: FutureWarning: In a future version, DataFrame.mean(axis=None) will return a scalar mean over the entire DataFrame. To retain the old behavior, use 'frame.mean(axis=0)' or just 'frame.mean()'\n",
      "  return mean(axis=axis, dtype=dtype, out=out, **kwargs)\n"
     ]
    }
   ],
   "source": [
    "lower,upper = stats.norm.interval(0.95, loc = np.mean(df), scale = 0.38/np.sqrt(20))\n",
    "print(\"신뢰구간: ({0},{1})\".format(lower.round(2),upper.round(2)))\n",
    "# 감자 20Box의 무게는 평균적으로 19.33kg와 19.67kg 사이에 95%신뢰구간내에서 위치한다. 우리가 흔히 먹는 감자의 1개 무개는 250g정도이며 엄청나게 큰\n",
    "# 차이는 아니지만 고객이 불편할 수도 있기 때문에 최대한 중량을 그 사이로 맞추도록 노력해야한다."
   ]
  },
  {
   "cell_type": "code",
   "execution_count": 171,
   "id": "c6a50635",
   "metadata": {},
   "outputs": [
    {
     "data": {
      "text/html": [
       "<div>\n",
       "<style scoped>\n",
       "    .dataframe tbody tr th:only-of-type {\n",
       "        vertical-align: middle;\n",
       "    }\n",
       "\n",
       "    .dataframe tbody tr th {\n",
       "        vertical-align: top;\n",
       "    }\n",
       "\n",
       "    .dataframe thead th {\n",
       "        text-align: right;\n",
       "    }\n",
       "</style>\n",
       "<table border=\"1\" class=\"dataframe\">\n",
       "  <thead>\n",
       "    <tr style=\"text-align: right;\">\n",
       "      <th></th>\n",
       "      <th>Coil</th>\n",
       "    </tr>\n",
       "  </thead>\n",
       "  <tbody>\n",
       "    <tr>\n",
       "      <th>0</th>\n",
       "      <td>73</td>\n",
       "    </tr>\n",
       "    <tr>\n",
       "      <th>1</th>\n",
       "      <td>71</td>\n",
       "    </tr>\n",
       "    <tr>\n",
       "      <th>2</th>\n",
       "      <td>74</td>\n",
       "    </tr>\n",
       "    <tr>\n",
       "      <th>3</th>\n",
       "      <td>69</td>\n",
       "    </tr>\n",
       "    <tr>\n",
       "      <th>4</th>\n",
       "      <td>70</td>\n",
       "    </tr>\n",
       "    <tr>\n",
       "      <th>5</th>\n",
       "      <td>73</td>\n",
       "    </tr>\n",
       "    <tr>\n",
       "      <th>6</th>\n",
       "      <td>70</td>\n",
       "    </tr>\n",
       "    <tr>\n",
       "      <th>7</th>\n",
       "      <td>68</td>\n",
       "    </tr>\n",
       "    <tr>\n",
       "      <th>8</th>\n",
       "      <td>75</td>\n",
       "    </tr>\n",
       "    <tr>\n",
       "      <th>9</th>\n",
       "      <td>72</td>\n",
       "    </tr>\n",
       "    <tr>\n",
       "      <th>10</th>\n",
       "      <td>70</td>\n",
       "    </tr>\n",
       "    <tr>\n",
       "      <th>11</th>\n",
       "      <td>72</td>\n",
       "    </tr>\n",
       "    <tr>\n",
       "      <th>12</th>\n",
       "      <td>73</td>\n",
       "    </tr>\n",
       "    <tr>\n",
       "      <th>13</th>\n",
       "      <td>70</td>\n",
       "    </tr>\n",
       "    <tr>\n",
       "      <th>14</th>\n",
       "      <td>70</td>\n",
       "    </tr>\n",
       "    <tr>\n",
       "      <th>15</th>\n",
       "      <td>72</td>\n",
       "    </tr>\n",
       "    <tr>\n",
       "      <th>16</th>\n",
       "      <td>71</td>\n",
       "    </tr>\n",
       "    <tr>\n",
       "      <th>17</th>\n",
       "      <td>70</td>\n",
       "    </tr>\n",
       "    <tr>\n",
       "      <th>18</th>\n",
       "      <td>75</td>\n",
       "    </tr>\n",
       "    <tr>\n",
       "      <th>19</th>\n",
       "      <td>72</td>\n",
       "    </tr>\n",
       "  </tbody>\n",
       "</table>\n",
       "</div>"
      ],
      "text/plain": [
       "    Coil\n",
       "0     73\n",
       "1     71\n",
       "2     74\n",
       "3     69\n",
       "4     70\n",
       "5     73\n",
       "6     70\n",
       "7     68\n",
       "8     75\n",
       "9     72\n",
       "10    70\n",
       "11    72\n",
       "12    73\n",
       "13    70\n",
       "14    70\n",
       "15    72\n",
       "16    71\n",
       "17    70\n",
       "18    75\n",
       "19    72"
      ]
     },
     "execution_count": 171,
     "metadata": {},
     "output_type": "execute_result"
    }
   ],
   "source": [
    "# 실습문제 9 \n",
    "df = pd.DataFrame({'Coil' : [73,71,74,69,70,73,70,68,75,72,70,72,73,70,70,72,71,70,75,72]})\n",
    "df"
   ]
  },
  {
   "cell_type": "code",
   "execution_count": 172,
   "id": "7f769e24",
   "metadata": {},
   "outputs": [
    {
     "name": "stdout",
     "output_type": "stream",
     "text": [
      "신뢰구간: ([70.6],[72.4])\n"
     ]
    },
    {
     "name": "stderr",
     "output_type": "stream",
     "text": [
      "/home/piai/anaconda3/lib/python3.10/site-packages/numpy/core/fromnumeric.py:3430: FutureWarning: In a future version, DataFrame.mean(axis=None) will return a scalar mean over the entire DataFrame. To retain the old behavior, use 'frame.mean(axis=0)' or just 'frame.mean()'\n",
      "  return mean(axis=axis, dtype=dtype, out=out, **kwargs)\n"
     ]
    }
   ],
   "source": [
    "lower,upper = stats.t.interval(0.95,len(df)-1, loc = np.mean(df),scale = stats.sem(df))\n",
    "print(\"신뢰구간: ({0},{1})\".format(lower.round(2),upper.round(2)))\n",
    "# 개발된 강종의 평균 인장강도가 유의수준 95%내에 70.6과 72.4에 위치하기 때문에 기대하고 있는 평균 인장강도 70kg를 만족했다고 볼 수 있다."
   ]
  },
  {
   "cell_type": "code",
   "execution_count": 47,
   "id": "68e85009",
   "metadata": {},
   "outputs": [],
   "source": [
    "# 실습문제 10\n",
    "df = pd.DataFrame({'satisfaction': [85.0,79.0,79.1,79.9,81.6,78.6,85.4,83.4,78.1,79.2]})\n",
    "t_result = stats.ttest_1samp(df,78.0)\n",
    "t, p = t_result.statistic.round(3),\\\n",
    "       t_result.pvalue.round(3)"
   ]
  },
  {
   "cell_type": "code",
   "execution_count": 48,
   "id": "04417848",
   "metadata": {},
   "outputs": [
    {
     "name": "stdout",
     "output_type": "stream",
     "text": [
      "1-Sample t-test\n",
      "t 통계량 : [3.379]\n",
      "p-value : [0.008]\n"
     ]
    }
   ],
   "source": [
    "print(\"1-Sample t-test\")\n",
    "print(\"t 통계량 : {}\".format(t))\n",
    "print(\"p-value : {}\".format(p))\n",
    "#귀무가설 : 개선활동이 고객만족도를 변화 시키지 않는다.\n",
    "#대립가설 : 개선활동이 고객만족도를 변화 시킬수 있다.\n",
    "# 유의수준 5%에서 검정결과 P값이 0.008이므로 개선활동이 고객만족도 변화를 시켰다고 할 수 있다. 하지만 개선활동 자체는 올바르게 가고 있다\n",
    "# 라고 생각해 볼 수 있는데 이 고객만족도의 변화 자체가 개선활동 때문에 변화되고 있다라고 즉각적인 판단은 올바르지 않다."
   ]
  },
  {
   "cell_type": "code",
   "execution_count": 177,
   "id": "2738f148",
   "metadata": {},
   "outputs": [
    {
     "data": {
      "image/png": "[encoded data removed]",
      "text/plain": [
       "<Figure size 640x480 with 1 Axes>"
      ]
     },
     "metadata": {},
     "output_type": "display_data"
    }
   ],
   "source": [
    "# 실습문제 11\n",
    "df = pd.DataFrame({'A':[1.883,1.715,1.799,1.768,1.711,1.832,1.427,1.344],\n",
    "                   'B':[1.435,1.572,1.486,1.511,1.457,1.548,1.404,1.800]})\n",
    "df.boxplot(['A','B'])\n",
    "plt.show()"
   ]
  },
  {
   "cell_type": "code",
   "execution_count": 178,
   "id": "5c9eae9c",
   "metadata": {},
   "outputs": [
    {
     "name": "stdout",
     "output_type": "stream",
     "text": [
      "statistic = 0.8425754904747009, p-value = 0.08004532009363174\n"
     ]
    }
   ],
   "source": [
    "statistic,p = stats.shapiro(df['A'])\n",
    "print(\"statistic = {}, p-value = {}\".format(statistic,p))"
   ]
  },
  {
   "cell_type": "code",
   "execution_count": 179,
   "id": "7eb56966",
   "metadata": {},
   "outputs": [
    {
     "name": "stdout",
     "output_type": "stream",
     "text": [
      "statistic = 0.8393934369087219, p-value = 0.07424874603748322\n"
     ]
    }
   ],
   "source": [
    "statistic,p = stats.shapiro(df['B'])\n",
    "print(\"statistic = {}, p-value = {}\".format(statistic,p))\n",
    "\n",
    "# 데이터 모두 정규성을 만족하고 있음"
   ]
  },
  {
   "cell_type": "code",
   "execution_count": 180,
   "id": "8a9b3415",
   "metadata": {},
   "outputs": [
    {
     "data": {
      "text/plain": [
       "BartlettResult(statistic=1.2899966318541203, pvalue=0.25604857136527204)"
      ]
     },
     "execution_count": 180,
     "metadata": {},
     "output_type": "execute_result"
    }
   ],
   "source": [
    "stats.bartlett(df['A'],df['B'])\n",
    "# 데이터는 등분산성을 만족하고 있다."
   ]
  },
  {
   "cell_type": "code",
   "execution_count": 181,
   "id": "947c3ec3",
   "metadata": {},
   "outputs": [
    {
     "name": "stdout",
     "output_type": "stream",
     "text": [
      "2-Sample t-test\n",
      "t:1.94\n",
      "p:0.073\n"
     ]
    }
   ],
   "source": [
    "t_result = stats.ttest_ind(df['A'],df['B'])\n",
    "t,p = t_result.statistic.round(3),t_result.pvalue.round(3)\n",
    "print(\"2-Sample t-test\")\n",
    "print(\"t:{}\".format(t))\n",
    "print(\"p:{}\".format(p))\n",
    "# 귀무가설 : 공급자 간 모평균에 차이가 없다.\n",
    "# 대립가설 : 공급자 간 모평균에 차이가 있다.\n",
    "# 유의수준 5%에서 검정결과 값이 0.073이므로 공급자 간 모평균에 차이가 없다. 즉 공급자가 누구든 간 크게 데이터가 다르지 않다는 뜻을 의미한다."
   ]
  },
  {
   "cell_type": "code",
   "execution_count": 61,
   "id": "7ff6e98a",
   "metadata": {},
   "outputs": [],
   "source": [
    "# 실습문제 12\n",
    "df1 = pd.DataFrame({'before':[720,589,780,648,720,589,780,648,780,648]})\n",
    "df2 = pd.DataFrame({'after':[710,580,787,712,750,600,782,670,790,680]})\n",
    "t_result = stats.ttest_rel(df1,df2)\n",
    "t,p = t_result.statistic.round(3),t_result.pvalue.round(3)"
   ]
  },
  {
   "cell_type": "code",
   "execution_count": 62,
   "id": "3670b4fb",
   "metadata": {},
   "outputs": [
    {
     "name": "stdout",
     "output_type": "stream",
     "text": [
      "Paried t-test\n",
      "t:[-2.266]\n",
      "p:[0.05]\n"
     ]
    }
   ],
   "source": [
    "print(\"Paried t-test\")\n",
    "print(\"t:{}\".format(t))\n",
    "print(\"p:{}\".format(p))\n",
    "\n",
    "# 귀무가설 : 회사원들의 성적은 학원가기 전후와 차이가 없다.\n",
    "# 대립가설 : 회사원들의 성적은 학원가기 전후와 차이가 있다.\n",
    "# 유의수준 5%에서 검정결과 P값이 0.05이므로 회사원들의 성적은 학원가기 전후와 차이가 있다. 즉 회사원들을 학원에 보내는 것도 회사원들의\n",
    "# 능률을 올릴 수 있고 회사의 성과에 많은 기여를 할 수 있을 것."
   ]
  },
  {
   "cell_type": "code",
   "execution_count": 70,
   "id": "ef7aae4a",
   "metadata": {},
   "outputs": [
    {
     "name": "stdout",
     "output_type": "stream",
     "text": [
      "1 Proportion test\n",
      "z:-2.041\n",
      "p:0.041\n"
     ]
    }
   ],
   "source": [
    "# 실습문제 13\n",
    "count = 40\n",
    "n_obs = 100\n",
    "value = 0.5\n",
    "z,p = proportions_ztest(count,n_obs,value)\n",
    "print(\"1 Proportion test\")\n",
    "print('z:{0:0.3f}'.format(z))\n",
    "print('p:{0:0.3f}'.format(p))\n",
    "# 귀무가설 : 동전은 정상적인 확률로 나온다.\n",
    "# 대립가설 : 동전은 정상적인 확률로 나오지 않는다.\n",
    "# 결론 : 유의수준 5%에서 p값은 0.041이므로 동전은 정상적인 확률로 나오지 않는다고 볼 수 있다. 일반적으로 동전은 두 면이 나올 확률은 5:5이기 때문에\n",
    "# 정상적으로 나올려면 50%에 근접하게 나와야하는데 40%로 정상적이진 않다는 뜻을 의미한다."
   ]
  },
  {
   "cell_type": "code",
   "execution_count": 68,
   "id": "f16a0e8d",
   "metadata": {},
   "outputs": [
    {
     "name": "stdout",
     "output_type": "stream",
     "text": [
      "2 Proportion test\n",
      "z: 2.073\n",
      "p: 0.038\n"
     ]
    }
   ],
   "source": [
    "# 실습문제 14\n",
    "count = np.array([14,5])\n",
    "nobs = np.array([1200,1200])\n",
    "z,p = proportions_ztest(count,nobs)\n",
    "print(\"2 Proportion test\")\n",
    "print('z: {0:0.3f}'.format(z))\n",
    "print('p: {0:0.3f}'.format(p))\n",
    "\n",
    "# 귀무가설 : 두 공장의 불량률은 같지 않다.\n",
    "# 대립가설 : 두 공장의 불량률은 같다\n",
    "# 결론 : 유의수준 5%에서 p값은 0.038이므로 두 공장의 불량률은 같다고 할 수 있다\n",
    "# 이 말 즉슨 불랑률로 선택하는 것보다 또 다른 비즈니스를 남겨줄 수 있는 공장을 선택하는 것이 좋다. "
   ]
  },
  {
   "cell_type": "code",
   "execution_count": 67,
   "id": "f2acbf67",
   "metadata": {},
   "outputs": [
    {
     "name": "stdout",
     "output_type": "stream",
     "text": [
      "chi-square test\n",
      "chisq:98.274\n",
      "p:0.000\n",
      "degree pf freedom : 30\n",
      "expected value : \n",
      "[[11.004  8.21   5.24   3.843  1.921  9.782]\n",
      " [ 8.528  6.362  4.061  2.978  1.489  7.581]\n",
      " [10.454  7.799  4.978  3.651  1.825  9.293]\n",
      " [ 8.253  6.157  3.93   2.882  1.441  7.336]\n",
      " [ 7.978  5.952  3.799  2.786  1.393  7.092]\n",
      " [ 8.803  6.568  4.192  3.074  1.537  7.825]\n",
      " [ 7.978  5.952  3.799  2.786  1.393  7.092]]\n"
     ]
    }
   ],
   "source": [
    "# 실습문제 15\n",
    "df = pd.DataFrame({'A' : [18,1,8,7,10,9,10], 'B' : [8,2,14,5,5,9,4],\n",
    "                   'C' : [4,1,3,4,9,5,4], 'D' : [4,1,2,3,2,7,3],\n",
    "                   'E' : [3,1,3,1,1,1,1], 'F' : [3,25,8,10,2,1,7]})\n",
    "chi,pval,dof,expected = stats.chi2_contingency(df)\n",
    "\n",
    "print(\"chi-square test\")\n",
    "print('chisq:{0:0.3f}'.format(chi))\n",
    "print('p:{0:0.3f}'.format(pval))\n",
    "print('degree pf freedom : {}'.format(dof))\n",
    "print('expected value : \\n{}'.format(expected.round(3)))\n",
    "\n",
    "# 귀무가설 : 각 제품에 대해 이미지에 대해서 차이가 없다\n",
    "# 대립가설 : 각 제품에 대해 이미지에 대해서 차이가 있다\n",
    "# 결론 : 유의수준 5%에서 p값은 0.000이므로 각 제품에 대해서 이미지에 대해 차이가 있다. 즉 답은 없으니\n",
    "# 자신이 생각하는 우선순위를 꼽아서 그것에 부합하는 제품을 사는 것이 현명하다고 판단한다."
   ]
  },
  {
   "cell_type": "code",
   "execution_count": 183,
   "id": "9f38fbb1",
   "metadata": {},
   "outputs": [
    {
     "name": "stdout",
     "output_type": "stream",
     "text": [
      "      A     B     C     D\n",
      "0  32.2  33.1  32.6  26.7\n",
      "1  30.4  29.9  32.7  28.5\n",
      "2  33.6  31.7  29.3  30.9\n",
      "3  36.4  27.5  25.9  26.2\n",
      "4  33.9  34.0  31.1  32.3\n",
      "5  34.9  30.7  23.8  23.7\n",
      "       A     B\n",
      "0   32.2  32.6\n",
      "1   30.4  32.7\n",
      "2   33.6  29.3\n",
      "3   36.4  25.9\n",
      "4   33.9  31.1\n",
      "5   34.9  23.8\n",
      "6   33.1  26.7\n",
      "7   29.9  28.5\n",
      "8   31.7  30.9\n",
      "9   27.5  26.2\n",
      "10  34.0  32.3\n",
      "11  30.7  23.7\n"
     ]
    }
   ],
   "source": [
    "# 실습문제 16\n",
    "df = pd.read_csv(\"/home/piai/문서/빅데이터분석실습/1 Big Data 분석 기초/ANOVA.csv\",encoding = 'euc-kr')\n",
    "df_g = pd.DataFrame({'A' : [32.2,30.4,33.6,36.4,33.9,34.9],\n",
    "                    'B' : [33.1,29.9,31.7,27.5,34.0,30.7],\n",
    "                    'C' : [32.6,32.7,29.3,25.9,31.1,23.8],\n",
    "                    'D' : [26.7,28.5,30.9,26.2,32.3,23.7]})\n",
    "df_t = pd.DataFrame({'A' : [32.2,30.4,33.6,36.4,33.9,34.9,33.1,29.9,31.7,27.5,34.0,30.7],\n",
    "                     'B' : [32.6,32.7,29.3,25.9,31.1,23.8,26.7,28.5,30.9,26.2,32.3,23.7]})\n",
    "print(df_g)\n",
    "print(df_t)\n"
   ]
  },
  {
   "cell_type": "code",
   "execution_count": 184,
   "id": "795caccd",
   "metadata": {},
   "outputs": [
    {
     "data": {
      "image/png": "[encoded data removed]",
      "text/plain": [
       "<Figure size 800x500 with 1 Axes>"
      ]
     },
     "metadata": {},
     "output_type": "display_data"
    },
    {
     "data": {
      "image/png": "[encoded data removed]",
      "text/plain": [
       "<Figure size 600x500 with 1 Axes>"
      ]
     },
     "metadata": {},
     "output_type": "display_data"
    }
   ],
   "source": [
    "plt.figure(figsize=(8, 5))\n",
    "plt.boxplot([df_g['A'], df_g['B'], df_g['C'], df_g['D']], labels=['A', 'B', 'C', 'D'])\n",
    "plt.title('df_g')\n",
    "plt.xlabel('Group')\n",
    "plt.ylabel('Value')\n",
    "plt.show()\n",
    "\n",
    "plt.figure(figsize=(6, 5))\n",
    "plt.boxplot([df_t['A'], df_t['B']], labels=['A', 'B'])\n",
    "plt.title(' df_t')\n",
    "plt.xlabel('Group')\n",
    "plt.ylabel('Value')\n",
    "plt.show()"
   ]
  },
  {
   "cell_type": "code",
   "execution_count": 185,
   "id": "c9698dbe",
   "metadata": {},
   "outputs": [
    {
     "name": "stdout",
     "output_type": "stream",
     "text": [
      "statistic = 0.9879403114318848, p-value = 0.983557939529419\n",
      "statistic = 0.9769707918167114, p-value = 0.9355478286743164\n",
      "statistic = 0.8929420113563538, p-value = 0.3338908553123474\n",
      "statistic = 0.9713904857635498, p-value = 0.901641845703125\n"
     ]
    }
   ],
   "source": [
    "statistic,p = stats.shapiro(df_g['A'])\n",
    "print(\"statistic = {}, p-value = {}\".format(statistic,p))\n",
    "\n",
    "statistic,p = stats.shapiro(df_g['B'])\n",
    "print(\"statistic = {}, p-value = {}\".format(statistic,p))\n",
    "\n",
    "statistic,p = stats.shapiro(df_g['C'])\n",
    "print(\"statistic = {}, p-value = {}\".format(statistic,p))\n",
    "\n",
    "statistic,p = stats.shapiro(df_g['D'])\n",
    "print(\"statistic = {}, p-value = {}\".format(statistic,p))\n",
    "# 유의수준 5%내에서 df_g의 모든 데이터는 정규성을 만족하고 있다."
   ]
  },
  {
   "cell_type": "code",
   "execution_count": 186,
   "id": "5485afd7",
   "metadata": {},
   "outputs": [
    {
     "name": "stdout",
     "output_type": "stream",
     "text": [
      "statistic = 0.982139527797699, p-value = 0.9907686114311218\n",
      "statistic = 0.9098271131515503, p-value = 0.2122616022825241\n"
     ]
    }
   ],
   "source": [
    "statistic,p = stats.shapiro(df_t['A'])\n",
    "print(\"statistic = {}, p-value = {}\".format(statistic,p))\n",
    "\n",
    "statistic,p = stats.shapiro(df_t['B'])\n",
    "print(\"statistic = {}, p-value = {}\".format(statistic,p))\n",
    "# 유의수준 5%내에서 df_t의 모든 데이터는 정규성을 만족하고 있다."
   ]
  },
  {
   "cell_type": "code",
   "execution_count": 187,
   "id": "be7ae440",
   "metadata": {},
   "outputs": [
    {
     "data": {
      "text/plain": [
       "BartlettResult(statistic=0.016899422383609006, pvalue=0.896568184372482)"
      ]
     },
     "execution_count": 187,
     "metadata": {},
     "output_type": "execute_result"
    }
   ],
   "source": [
    "stats.bartlett(df_g['A'],df_g['B'],df_g['C'],df_g['D'])\n",
    "stats.bartlett(df_t['A'],df_g['B'])"
   ]
  },
  {
   "cell_type": "code",
   "execution_count": 188,
   "id": "0721cc7f",
   "metadata": {},
   "outputs": [],
   "source": [
    "df_g_result = stats.f_oneway(df_g['A'],df_g['B'],df_g['C'],df_g['D'])\n",
    "df_t_result = stats.f_oneway(df_t['A'],df_t['B'])\n",
    "f, p = df_g_result.statistic.round(3), df_g_result.pvalue.round(3)\n",
    "g, h = df_t_result.statistic.round(3), df_t_result.pvalue.round(3)\n",
    "#ANOVA의 f값 p값, g값 h값 저장"
   ]
  },
  {
   "cell_type": "code",
   "execution_count": 189,
   "id": "86a4ff6a",
   "metadata": {},
   "outputs": [
    {
     "name": "stdout",
     "output_type": "stream",
     "text": [
      "One-way ANOVA\n",
      "F 통계량: 4.172\n",
      "p-value: 0.019\n",
      "F 통계량: 9.654\n",
      "p-value: 0.005\n"
     ]
    }
   ],
   "source": [
    "print(\"One-way ANOVA\")\n",
    "print(\"F 통계량: {}\".format(f))\n",
    "print(\"p-value: {}\".format(p))\n",
    "print(\"F 통계량: {}\".format(g))\n",
    "print(\"p-value: {}\".format(h))\n",
    "# (강)귀무가설 : 강종별로 2차 정련시간의 차이가 없다.\n",
    "# (강)대립가설 : 강종별로 2차 정련시간의 차이가 있다.\n",
    "# (type)귀무가설 : type별로 2차 정련시간에 차이가 없다.\n",
    "# (type)대립가설 : type별로 2차 정련시간에 차이가 있다.\n",
    "# 두 p값 모두 p값이 0.05이하이므로 강종과 type별로 2차 정련시간이 영향을 미친다는 것을 알 수 있다."
   ]
  },
  {
   "cell_type": "code",
   "execution_count": 190,
   "id": "1de43a96",
   "metadata": {},
   "outputs": [
    {
     "name": "stdout",
     "output_type": "stream",
     "text": [
      "Correlation Analysis\n",
      "corr : -0.723\n",
      "p_value : 0.000\n"
     ]
    }
   ],
   "source": [
    "# 실습문제 17\n",
    "df1 = [37.6,38.6,37.2,36.4,38.6,39,37.2,36.1,35.9,37.1,36.9,37.5,36.3,38.1,39,36.9,36.8,37.6,33,33.5]\n",
    "df2 = [14,15,14,16,17,14,17,16,15,16,14,16,18,13,15,17,14,16,20,21]\n",
    "\n",
    "corr,pval = stats.pearsonr(df1,df2)\n",
    "\n",
    "print(\"Correlation Analysis\")\n",
    "print('corr : {0:0.3f}'.format(corr))\n",
    "print('p_value : {0:0.3f}'.format(pval))\n",
    "\n",
    "# 결론 : 초코칩의 강도와 재료 반죽온도간에 0.7의 corr은 강한 상관성이 있다고 할 수 있다."
   ]
  },
  {
   "cell_type": "code",
   "execution_count": null,
   "id": "3cacce22",
   "metadata": {},
   "outputs": [],
   "source": []
  }
 ],
 "metadata": {
  "kernelspec": {
   "display_name": "Python 3 (ipykernel)",
   "language": "python",
   "name": "python3"
  },
  "language_info": {
   "codemirror_mode": {
    "name": "ipython",
    "version": 3
   },
   "file_extension": ".py",
   "mimetype": "text/x-python",
   "name": "python",
   "nbconvert_exporter": "python",
   "pygments_lexer": "ipython3",
   "version": "3.10.9"
  }
 },
 "nbformat": 4,
 "nbformat_minor": 5
}
